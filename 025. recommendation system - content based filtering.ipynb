{
 "cells": [
  {
   "cell_type": "markdown",
   "metadata": {},
   "source": [
    "이전 자료에서 다루었던 콘텐츠 기반(content based filtering) 추천 시스템을 실습으로 살펴봅니다.\n",
    "\n",
    "해당 자료는 아래 리스트에서 참고했습니다.\n",
    "\n",
    "- https://www.kaggle.com/rounakbanik/movie-recommender-systems\n",
    "- https://www.kaggle.com/ibtesama/getting-started-with-a-movie-recommendation-system\n",
    "\n",
    "\n",
    "데이터는 kaggle의 **The movies Dataset (https://www.kaggle.com/rounakbanik/the-movies-dataset)** 을 사용했습니다."
   ]
  },
  {
   "cell_type": "code",
   "execution_count": null,
   "metadata": {},
   "outputs": [],
   "source": []
  }
 ],
 "metadata": {
  "kernelspec": {
   "display_name": "Python 3",
   "language": "python",
   "name": "python3"
  },
  "language_info": {
   "codemirror_mode": {
    "name": "ipython",
    "version": 3
   },
   "file_extension": ".py",
   "mimetype": "text/x-python",
   "name": "python",
   "nbconvert_exporter": "python",
   "pygments_lexer": "ipython3",
   "version": "3.6.9"
  }
 },
 "nbformat": 4,
 "nbformat_minor": 2
}
