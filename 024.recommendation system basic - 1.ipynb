{
 "cells": [
  {
   "cell_type": "markdown",
   "metadata": {},
   "source": [
    "해당 자료는 아래 리스트에서 참고했습니다.  \n",
    "- https://www.kaggle.com/rounakbanik/movie-recommender-systems\n",
    "- https://www.kaggle.com/ibtesama/getting-started-with-a-movie-recommendation-system\n",
    "- https://wikidocs.net/5053\n",
    "- https://medium.com/towards-artificial-intelligence/content-based-recommender-system-4db1b3de03e7\n",
    "- https://www.youtube.com/watch?v=ZspR5PZemcs&list=PLU1prrdmLIpaGw0neztIByvshB9I7l6-f&index=11\n",
    "\n",
    "\n",
    "# 추천 시스템(Recommendation System)\n",
    "\n",
    "\n",
    "https://scvgoe.github.io/2017-02-01-%ED%98%91%EC%97%85-%ED%95%84%ED%84%B0%EB%A7%81-%EC%B6%94%EC%B2%9C-%EC%8B%9C%EC%8A%A4%ED%85%9C-(Collaborative-Filtering-Recommendation-System)/\n",
    "\n",
    "추천 시스템은 잘만 만들어진다면 친사용자 서비스이며 동시에 친기업 서비스입니다.\n",
    "사용자의 취향을 파악하고, 취향에 따른 상품을 추천해주기 때문에 그렇습니다. 즉, 그렇기에 사용자는 자신의 맞춤 제품이 나오니 구매할 확률이 올라가고 기업 입장에서는 이윤으로 돌아오는 것이죠.  \n",
    "\n",
    "추천 시스템의 가장 무서운 것은 자신이 몰랐던 취향도 추천해주는 것입니다. 이러한 추천 시스템을 경험한 사용자는 그 서비스의 충성 고객이 될 확률이 높아집니다. 그러면 더욱 더 많은 데이터가 쌓이게 되고 더욱 견고한 서비스가 구축이 됩니다.\n",
    "\n",
    "# 추천 시스템의 기본 유형\n",
    "\n",
    "추천 시스템의 기본은 크게 **Content based filtering** 방식과 **협업 필터링(Collaborative Filtering)** 방식으로 나뉘어 집니다. 특히, 협업 필터링은 다시 메모리(Memory based) 협업 필터링 잠재 요인(Latent Factor) 협업 필터링으로 세부적으로 소개되죠.  \n",
    "\n",
    "초반에는 콘텐츠 기반 필터링과 최근접 이웃 잠재 요인을 많이 사용했습니다. 하지만 넷플릭스의 사례 이후 잠재 요인 협업 필터링을 많이 사용하게 되었는데요. 이 잠재 요인 협업 필터링 방법에서는 **행렬 분해(Matrix Factorization)** 방법을 사용합니다.\n",
    "\n",
    "\n",
    "# Content based filtering\n",
    "\n",
    "콘텐츠 기반 필터링 방식은 사용자가 특정 아이템을 선호하는 경우 그 아이템과 비슷한 콘텐츠를 가진 다른 아이템을 추천하는 방식입니다.\n",
    "\n",
    "![1](https://user-images.githubusercontent.com/24634054/71624712-520aaf00-2c27-11ea-9546-562ee61517aa.JPG)\n",
    "\n",
    "굉장히 단순한 아이디어입니다. 예를 들어 사용자가 A라는 영화에 높은 평점을 줬는데 그 영화가 액션이었고 '이수진' 이라는 감독이었으면 '이수진' 감독의 다른 액션 영화를 추천해주는 것이죠.\n",
    "\n",
    "하지만, 이는 매우 단순한 추천이기 때문에 참고용으로 활용하지 잘 사용하지 않습니다.\n",
    "\n",
    "\n",
    "# 메모리(Memory based) Collaborative Filtering\n",
    "\n",
    "실제로는 새로운 영화가 나오면 다른 사람들의 평점이나, 평가를 들어본 뒤 영화를 선택하는 경우가 많습니다. 그냥 봤다가 재미없으면 망하기 때문이죠. 이와 같은 방식으로 사용자가 아이템에 매긴 평점, 상품 구매 이력 등의 **사용자 행동 양식(User Behavior)**을 기반으로 추천 해주는 것이 Collaborative Filtering 입니다.\n",
    "\n",
    "메모리 기반 협업 필터링은 사용자-아이템 행렬에서 사용자가 아직 평가하지 않은 아이템을 예측하는 것이 목표입니다.\n",
    "\n"
   ]
  },
  {
   "cell_type": "markdown",
   "metadata": {},
   "source": [
    "![2](https://user-images.githubusercontent.com/24634054/71624713-520aaf00-2c27-11ea-9e04-471bb9e0ae1e.JPG)\n",
    "\n",
    "이 그림처럼 말이죠. 예를 들어 User2가 아직 ItemC에 대한 평가를 안했으니 User2는 ItemC에 대해 어떻게 평가할 것인지를 예측하는 것입니다.\n",
    "\n",
    "이처럼 메모리 기반 협업 필터링에서는 사용자-아이템 평점 행렬과 같은 모습을 가지고 있습니다. 따라서 column은 contents, row는 users가 되어야 합니다. 즉, 아래와 같이 데이터가 되어 있다면 pivot table 형식으로 데이터를 바꿔주어야 하는 것이죠!\n",
    "\n"
   ]
  },
  {
   "cell_type": "markdown",
   "metadata": {},
   "source": [
    "![3](https://user-images.githubusercontent.com/24634054/71624714-52a34580-2c27-11ea-9bf8-0105bdf90b6a.JPG)\n",
    "\n",
    "이러한 모습을 가지고 있기 때문에 이 행렬은 굉장히 Sparse하다는 특징이 있습니다. 그리고 실무에서는 이 특징이 단점으로 꼽히게 되죠.  \n",
    "공간 낭비이니까요. 아무튼!\n",
    "\n",
    "이러한 메모리 기반 협업 필터링은 다시 아래와 같이 나뉠 수 있습니다.  \n",
    "- 사용자 기반 : 비슷한 고객들이 ~한 제품을 구매했다.\n",
    "- 아이템 기반 : ~ 상품을 구매한 고객들은 다음 상품도 구매했다.\n",
    "\n",
    "**사용자 기반** 의 협업 필터링 모습은 아래와 같을 것입니다.\n"
   ]
  },
  {
   "cell_type": "markdown",
   "metadata": {},
   "source": [
    "![4](https://user-images.githubusercontent.com/24634054/71624715-52a34580-2c27-11ea-984d-412b17f9e7d8.JPG)\n",
    "\n",
    "즉, User1, User2는 ItemA ~ C까지의 평점이 비슷하기 때문에 비슷하다라고 생각하는 것이죠!\n",
    "\n",
    "**아이템 기반** 협업 필터링 모습은 아래와 같을 것입니다."
   ]
  },
  {
   "cell_type": "markdown",
   "metadata": {},
   "source": [
    "![5](https://user-images.githubusercontent.com/24634054/71624716-52a34580-2c27-11ea-855b-030aa67149e9.JPG)\n",
    "\n",
    "ItemA와 B는 사용자들의 평점 분포가 비슷하므로 유사도가 높다고 생각하는 것입니다. 그래서 User4에게 ItemA를 추천해주는 것입니다!\n",
    "\n",
    "그리고 일반적으로 사용자 기반보다는 아이템 기반이 좀 더 정확도가 높습니다.  \n",
    "그 이유는 대체적으로 생각하는 것이 비슷한 상품을 좋아한다고 취향이 비슷한 것은 아니니까 라고 많이들 말씀합니다.  \n",
    "\n",
    "그래서 메모리 기반 협업 필터링을 사용할 때는 보통 아이템 기반으로 추천을 적용합니다. 그리고 그 유사도는 코사인 유사도(cosine similarity)를 대부분 활용합니다."
   ]
  },
  {
   "cell_type": "markdown",
   "metadata": {},
   "source": [
    "# Matrix Factorization Collaborative Filtering\n",
    "\n",
    "행렬 분해를 이용한 협업 필터링 방법도 있습니다. 이는 대규모 다차원 행렬을 SVD와 같은 차원 감소 기법으로 분해하는 과정에서 잠재 요인(Latent Factor)를 뽑아내는 방법입니다.\n",
    "\n",
    "사실, 위에서 아이템 기반 협업 필터링을 소개했지만 이 행렬 분해(Matrix Factorization) 방법을 더 많이 사용합니다.  \n",
    "가장 큰 이유는 공간에 있습니다. 이는 아래에서 다시 설명합니다.\n",
    "\n",
    "행렬 분해(혹은 잠재 요인)으로 진행하는 collaborative filtering은 사용자-아이템 행렬 데이터를 이용해 '잠재 요인'을 끌어냅니다.  \n",
    "즉, 사용자-아이템 행렬을 사용자-잠재요인, 아이템-잠재요인 행렬로 분해할 수 있습니다. 아래 사진과 같이 말이죠!\n",
    "\n",
    "출처 : https://www.cs.cmu.edu/~mgormley/courses/10601-s17/slides/lecture25-mf.pdf\n",
    "\n",
    "![1](https://user-images.githubusercontent.com/24634054/71657636-1507ff00-2d84-11ea-82c7-b615cb871011.JPG)\n",
    "\n",
    "저 잠재요인(latent factor)는 어떤 것인지 명확히 알 수는 없습니다. 하지만 뭐 예로 들면 코메디, 액션과 같은 장르가 될 수도 있는 것입니다.  \n",
    "만약, 코메디, 액션과 같은 장르로 정해졌을 경우 사용자별 장르 선호도, 아이템 별 장르 가중치 값으로 분해될 수 있는 것입니다.\n",
    "\n",
    "그럼 아래 사진과 같은 계산이 가능해지죠~  \n",
    "출처 : https://www.youtube.com/watch?v=ZspR5PZemcs&list=PLU1prrdmLIpaGw0neztIByvshB9I7l6-f&index=11\n",
    "\n",
    "![10](https://user-images.githubusercontent.com/24634054/71638406-8c656200-2ca2-11ea-9740-a3da282fefde.JPG)\n",
    "\n",
    "\n",
    "보통 사용자-아이템 행렬은 R이라고 표현합니다. 그리고 R(u, i)라고 하는데 u번째 유저가 i번째 아이템에 대한 평가를 말합니다.  \n",
    "또한, 사용자-잠재요인 행렬을 P, 아이템-잠재요인을 Q라고 합니다. 아이템-잠재요인은 보통 전치 행렬로 많이 사용하므로 Q.T라고 불리웁니다.\n",
    "\n",
    "그래서 아래 그림과 같이 R 행렬에서 나온 값을 기반으로 latent factor score를 매길 수 있게됩니다.\n",
    "\n",
    "![11](https://user-images.githubusercontent.com/24634054/71638458-fcc0b300-2ca3-11ea-93c9-dd80020f143e.JPG)\n",
    "\n",
    "이 값을 이용해서 아래와 같이 사용자가 평가하지 않은 콘텐츠의 점수를 예측할 수 있는 것입니다.  \n",
    "즉, 이 값이 높으면 사용자에게 추천할 수 있게 됩니다.\n",
    "\n",
    "![12](https://user-images.githubusercontent.com/24634054/71638459-fcc0b300-2ca3-11ea-914c-c10ae98e063d.JPG)\n",
    "\n",
    "이렇게 이용하는 방법이 행렬 분해(matrix factorization)를 이용한 collaborative filtering입니다.  \n",
    "혹은, latent factor based collaborative filtering이라고도 합니다.\n",
    "\n",
    "이렇게 하면 장점은 위에서도 잠깐 언급했듯이 저장 공간의 장점입니다.\n",
    "\n",
    "만약, matrix factorization 방법을 사용하지 않으면 아래와 같이 user - item matrix가 있을 것입니다.  \n",
    "즉, 1000개의 item에 2000명의 user가 있으면 1000 * 2000 개의 파라미터가 필요합니다.\n",
    "\n",
    "출처 : https://www.youtube.com/watch?v=ZspR5PZemcs&list=PLU1prrdmLIpaGw0neztIByvshB9I7l6-f&index=11\n",
    "\n",
    "![13](https://user-images.githubusercontent.com/24634054/71638477-b9b30f80-2ca4-11ea-8581-5b1443fcf1f3.JPG)\n",
    "\n",
    "아래 그림도 이를 설명해줍니다.\n",
    "\n",
    "![16](https://user-images.githubusercontent.com/24634054/71638478-b9b30f80-2ca4-11ea-8eab-192335230ddd.JPG)\n",
    "\n",
    "하지만, matrix factorization을 활용하면 공간을 매우 효율적으로 사용할 수 있습니다.\n",
    "\n",
    "![17](https://user-images.githubusercontent.com/24634054/71638479-ba4ba600-2ca4-11ea-9ee7-5a0d4b58d27c.JPG)\n"
   ]
  },
  {
   "cell_type": "markdown",
   "metadata": {},
   "source": [
    "그리고 이러한 행렬분해는 아래와 같은 방법으로 됩니다.\n",
    "\n",
    "![20](https://user-images.githubusercontent.com/24634054/71638517-6a211380-2ca5-11ea-89f1-08d831c0ae37.JPG)"
   ]
  },
  {
   "cell_type": "markdown",
   "metadata": {},
   "source": [
    "그럼 캐글에 있는 영화 추천 코드를 보면서 위 내용을 복습해보죠."
   ]
  },
  {
   "cell_type": "code",
   "execution_count": null,
   "metadata": {},
   "outputs": [],
   "source": []
  }
 ],
 "metadata": {
  "kernelspec": {
   "display_name": "Python 3",
   "language": "python",
   "name": "python3"
  },
  "language_info": {
   "codemirror_mode": {
    "name": "ipython",
    "version": 3
   },
   "file_extension": ".py",
   "mimetype": "text/x-python",
   "name": "python",
   "nbconvert_exporter": "python",
   "pygments_lexer": "ipython3",
   "version": "3.6.9"
  }
 },
 "nbformat": 4,
 "nbformat_minor": 2
}
