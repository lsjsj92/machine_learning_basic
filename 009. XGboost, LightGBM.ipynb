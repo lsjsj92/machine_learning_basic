{
 "cells": [
  {
   "cell_type": "markdown",
   "metadata": {},
   "source": [
    "# 출처 \n",
    "\n",
    "## xgboost\n",
    "\n",
    "- https://apple-rbox.tistory.com/6\n",
    "- https://brunch.co.kr/@snobberys/137\n"
   ]
  },
  {
   "cell_type": "markdown",
   "metadata": {},
   "source": [
    "## lightgbm\n",
    "\n",
    "- https://ko.raw3h.net/page/what-is-lightgbm-how-to-implement-it-how-to-fine-tune-the-parameters-5295f7/\n",
    "\n",
    "\n",
    "## 그 외\n",
    "\n",
    "- https://www.kaggle.com/shep312/applying-lightgbm-to-titanic-dataset\n",
    "- https://www.kaggle.com/suniliitb96/titanic-survival-prediction-using-xgboost\n"
   ]
  },
  {
   "cell_type": "code",
   "execution_count": 1,
   "metadata": {},
   "outputs": [],
   "source": [
    "import pandas as pd\n",
    "import numpy as np\n",
    "import matplotlib.pyplot as plt\n",
    "import seaborn as sns\n",
    "from xgboost import plot_importance\n",
    "from xgboost import XGBClassifier\n",
    "from sklearn.datasets import load_breast_cancer\n",
    "from sklearn.model_selection import train_test_split, GridSearchCV\n",
    "from sklearn.metrics import accuracy_score, f1_score, precision_score, recall_score, roc_auc_score, confusion_matrix"
   ]
  },
  {
   "cell_type": "code",
   "execution_count": 10,
   "metadata": {},
   "outputs": [],
   "source": [
    "def metrics(y_test, pred):\n",
    "    accuracy = accuracy_score(y_test, pred)\n",
    "    precision = precision_score(y_test, pred)\n",
    "    recall = recall_score(y_test, pred)\n",
    "    f1 = f1_score(y_test, pred)\n",
    "    roc_score = roc_auc_score(y_test, pred)\n",
    "    print('정확도 : {0:.2f}, 정밀도 : {1:.2f}, 재현율 : {2:.2f}'.format(accuracy, precision, recall))\n",
    "    print('f1-score : {0:.2f}, auc : {1:.2f}'.format(f1, roc_score))"
   ]
  },
  {
   "cell_type": "code",
   "execution_count": 3,
   "metadata": {},
   "outputs": [
    {
     "data": {
      "text/html": [
       "<div>\n",
       "<style scoped>\n",
       "    .dataframe tbody tr th:only-of-type {\n",
       "        vertical-align: middle;\n",
       "    }\n",
       "\n",
       "    .dataframe tbody tr th {\n",
       "        vertical-align: top;\n",
       "    }\n",
       "\n",
       "    .dataframe thead th {\n",
       "        text-align: right;\n",
       "    }\n",
       "</style>\n",
       "<table border=\"1\" class=\"dataframe\">\n",
       "  <thead>\n",
       "    <tr style=\"text-align: right;\">\n",
       "      <th></th>\n",
       "      <th>mean radius</th>\n",
       "      <th>mean texture</th>\n",
       "      <th>mean perimeter</th>\n",
       "      <th>mean area</th>\n",
       "      <th>mean smoothness</th>\n",
       "      <th>mean compactness</th>\n",
       "      <th>mean concavity</th>\n",
       "      <th>mean concave points</th>\n",
       "      <th>mean symmetry</th>\n",
       "      <th>mean fractal dimension</th>\n",
       "      <th>...</th>\n",
       "      <th>worst texture</th>\n",
       "      <th>worst perimeter</th>\n",
       "      <th>worst area</th>\n",
       "      <th>worst smoothness</th>\n",
       "      <th>worst compactness</th>\n",
       "      <th>worst concavity</th>\n",
       "      <th>worst concave points</th>\n",
       "      <th>worst symmetry</th>\n",
       "      <th>worst fractal dimension</th>\n",
       "      <th>target</th>\n",
       "    </tr>\n",
       "  </thead>\n",
       "  <tbody>\n",
       "    <tr>\n",
       "      <th>0</th>\n",
       "      <td>17.99</td>\n",
       "      <td>10.38</td>\n",
       "      <td>122.80</td>\n",
       "      <td>1001.0</td>\n",
       "      <td>0.11840</td>\n",
       "      <td>0.27760</td>\n",
       "      <td>0.3001</td>\n",
       "      <td>0.14710</td>\n",
       "      <td>0.2419</td>\n",
       "      <td>0.07871</td>\n",
       "      <td>...</td>\n",
       "      <td>17.33</td>\n",
       "      <td>184.60</td>\n",
       "      <td>2019.0</td>\n",
       "      <td>0.1622</td>\n",
       "      <td>0.6656</td>\n",
       "      <td>0.7119</td>\n",
       "      <td>0.2654</td>\n",
       "      <td>0.4601</td>\n",
       "      <td>0.11890</td>\n",
       "      <td>0</td>\n",
       "    </tr>\n",
       "    <tr>\n",
       "      <th>1</th>\n",
       "      <td>20.57</td>\n",
       "      <td>17.77</td>\n",
       "      <td>132.90</td>\n",
       "      <td>1326.0</td>\n",
       "      <td>0.08474</td>\n",
       "      <td>0.07864</td>\n",
       "      <td>0.0869</td>\n",
       "      <td>0.07017</td>\n",
       "      <td>0.1812</td>\n",
       "      <td>0.05667</td>\n",
       "      <td>...</td>\n",
       "      <td>23.41</td>\n",
       "      <td>158.80</td>\n",
       "      <td>1956.0</td>\n",
       "      <td>0.1238</td>\n",
       "      <td>0.1866</td>\n",
       "      <td>0.2416</td>\n",
       "      <td>0.1860</td>\n",
       "      <td>0.2750</td>\n",
       "      <td>0.08902</td>\n",
       "      <td>0</td>\n",
       "    </tr>\n",
       "    <tr>\n",
       "      <th>2</th>\n",
       "      <td>19.69</td>\n",
       "      <td>21.25</td>\n",
       "      <td>130.00</td>\n",
       "      <td>1203.0</td>\n",
       "      <td>0.10960</td>\n",
       "      <td>0.15990</td>\n",
       "      <td>0.1974</td>\n",
       "      <td>0.12790</td>\n",
       "      <td>0.2069</td>\n",
       "      <td>0.05999</td>\n",
       "      <td>...</td>\n",
       "      <td>25.53</td>\n",
       "      <td>152.50</td>\n",
       "      <td>1709.0</td>\n",
       "      <td>0.1444</td>\n",
       "      <td>0.4245</td>\n",
       "      <td>0.4504</td>\n",
       "      <td>0.2430</td>\n",
       "      <td>0.3613</td>\n",
       "      <td>0.08758</td>\n",
       "      <td>0</td>\n",
       "    </tr>\n",
       "    <tr>\n",
       "      <th>3</th>\n",
       "      <td>11.42</td>\n",
       "      <td>20.38</td>\n",
       "      <td>77.58</td>\n",
       "      <td>386.1</td>\n",
       "      <td>0.14250</td>\n",
       "      <td>0.28390</td>\n",
       "      <td>0.2414</td>\n",
       "      <td>0.10520</td>\n",
       "      <td>0.2597</td>\n",
       "      <td>0.09744</td>\n",
       "      <td>...</td>\n",
       "      <td>26.50</td>\n",
       "      <td>98.87</td>\n",
       "      <td>567.7</td>\n",
       "      <td>0.2098</td>\n",
       "      <td>0.8663</td>\n",
       "      <td>0.6869</td>\n",
       "      <td>0.2575</td>\n",
       "      <td>0.6638</td>\n",
       "      <td>0.17300</td>\n",
       "      <td>0</td>\n",
       "    </tr>\n",
       "    <tr>\n",
       "      <th>4</th>\n",
       "      <td>20.29</td>\n",
       "      <td>14.34</td>\n",
       "      <td>135.10</td>\n",
       "      <td>1297.0</td>\n",
       "      <td>0.10030</td>\n",
       "      <td>0.13280</td>\n",
       "      <td>0.1980</td>\n",
       "      <td>0.10430</td>\n",
       "      <td>0.1809</td>\n",
       "      <td>0.05883</td>\n",
       "      <td>...</td>\n",
       "      <td>16.67</td>\n",
       "      <td>152.20</td>\n",
       "      <td>1575.0</td>\n",
       "      <td>0.1374</td>\n",
       "      <td>0.2050</td>\n",
       "      <td>0.4000</td>\n",
       "      <td>0.1625</td>\n",
       "      <td>0.2364</td>\n",
       "      <td>0.07678</td>\n",
       "      <td>0</td>\n",
       "    </tr>\n",
       "  </tbody>\n",
       "</table>\n",
       "<p>5 rows × 31 columns</p>\n",
       "</div>"
      ],
      "text/plain": [
       "   mean radius  mean texture  mean perimeter  mean area  mean smoothness  \\\n",
       "0        17.99         10.38          122.80     1001.0          0.11840   \n",
       "1        20.57         17.77          132.90     1326.0          0.08474   \n",
       "2        19.69         21.25          130.00     1203.0          0.10960   \n",
       "3        11.42         20.38           77.58      386.1          0.14250   \n",
       "4        20.29         14.34          135.10     1297.0          0.10030   \n",
       "\n",
       "   mean compactness  mean concavity  mean concave points  mean symmetry  \\\n",
       "0           0.27760          0.3001              0.14710         0.2419   \n",
       "1           0.07864          0.0869              0.07017         0.1812   \n",
       "2           0.15990          0.1974              0.12790         0.2069   \n",
       "3           0.28390          0.2414              0.10520         0.2597   \n",
       "4           0.13280          0.1980              0.10430         0.1809   \n",
       "\n",
       "   mean fractal dimension  ...  worst texture  worst perimeter  worst area  \\\n",
       "0                 0.07871  ...          17.33           184.60      2019.0   \n",
       "1                 0.05667  ...          23.41           158.80      1956.0   \n",
       "2                 0.05999  ...          25.53           152.50      1709.0   \n",
       "3                 0.09744  ...          26.50            98.87       567.7   \n",
       "4                 0.05883  ...          16.67           152.20      1575.0   \n",
       "\n",
       "   worst smoothness  worst compactness  worst concavity  worst concave points  \\\n",
       "0            0.1622             0.6656           0.7119                0.2654   \n",
       "1            0.1238             0.1866           0.2416                0.1860   \n",
       "2            0.1444             0.4245           0.4504                0.2430   \n",
       "3            0.2098             0.8663           0.6869                0.2575   \n",
       "4            0.1374             0.2050           0.4000                0.1625   \n",
       "\n",
       "   worst symmetry  worst fractal dimension  target  \n",
       "0          0.4601                  0.11890       0  \n",
       "1          0.2750                  0.08902       0  \n",
       "2          0.3613                  0.08758       0  \n",
       "3          0.6638                  0.17300       0  \n",
       "4          0.2364                  0.07678       0  \n",
       "\n",
       "[5 rows x 31 columns]"
      ]
     },
     "execution_count": 3,
     "metadata": {},
     "output_type": "execute_result"
    }
   ],
   "source": [
    "data = load_breast_cancer()\n",
    "\n",
    "cancer = pd.DataFrame(data.data, columns = data.feature_names)\n",
    "cancer['target'] = data.target\n",
    "cancer.head()"
   ]
  },
  {
   "cell_type": "code",
   "execution_count": 5,
   "metadata": {},
   "outputs": [
    {
     "data": {
      "text/plain": [
       "1    357\n",
       "0    212\n",
       "Name: target, dtype: int64"
      ]
     },
     "execution_count": 5,
     "metadata": {},
     "output_type": "execute_result"
    }
   ],
   "source": [
    "cancer['target'].value_counts()"
   ]
  },
  {
   "cell_type": "code",
   "execution_count": 7,
   "metadata": {},
   "outputs": [
    {
     "name": "stdout",
     "output_type": "stream",
     "text": [
      "(455, 30) (114, 30)\n"
     ]
    }
   ],
   "source": [
    "y = cancer['target']\n",
    "X = cancer.drop('target', axis = 1)\n",
    "X_train, X_test, y_train, y_test = train_test_split(X, y, test_size = 0.2, random_state = 11)\n",
    "print(X_train.shape, X_test.shape)"
   ]
  },
  {
   "cell_type": "code",
   "execution_count": 8,
   "metadata": {},
   "outputs": [],
   "source": [
    "xgb = XGBClassifier(n_estimators=500, learning_rate = 0.1, max_depth = 4)\n",
    "xgb.fit(X_train, y_train)\n",
    "xgb_pred = xgb.predict(X_test)"
   ]
  },
  {
   "cell_type": "code",
   "execution_count": 12,
   "metadata": {},
   "outputs": [
    {
     "name": "stdout",
     "output_type": "stream",
     "text": [
      "정확도 : 0.99, 정밀도 : 0.99, 재현율 : 1.00\n",
      "f1-score : 0.99, auc : 0.99\n"
     ]
    }
   ],
   "source": [
    "metrics(y_test, xgb_pred)"
   ]
  },
  {
   "cell_type": "code",
   "execution_count": null,
   "metadata": {},
   "outputs": [],
   "source": []
  },
  {
   "cell_type": "code",
   "execution_count": null,
   "metadata": {},
   "outputs": [],
   "source": []
  },
  {
   "cell_type": "code",
   "execution_count": null,
   "metadata": {},
   "outputs": [],
   "source": []
  },
  {
   "cell_type": "code",
   "execution_count": 2,
   "metadata": {},
   "outputs": [
    {
     "data": {
      "text/html": [
       "<div>\n",
       "<style scoped>\n",
       "    .dataframe tbody tr th:only-of-type {\n",
       "        vertical-align: middle;\n",
       "    }\n",
       "\n",
       "    .dataframe tbody tr th {\n",
       "        vertical-align: top;\n",
       "    }\n",
       "\n",
       "    .dataframe thead th {\n",
       "        text-align: right;\n",
       "    }\n",
       "</style>\n",
       "<table border=\"1\" class=\"dataframe\">\n",
       "  <thead>\n",
       "    <tr style=\"text-align: right;\">\n",
       "      <th></th>\n",
       "      <th>PassengerId</th>\n",
       "      <th>Survived</th>\n",
       "      <th>Pclass</th>\n",
       "      <th>Name</th>\n",
       "      <th>Sex</th>\n",
       "      <th>Age</th>\n",
       "      <th>SibSp</th>\n",
       "      <th>Parch</th>\n",
       "      <th>Ticket</th>\n",
       "      <th>Fare</th>\n",
       "      <th>Cabin</th>\n",
       "      <th>Embarked</th>\n",
       "    </tr>\n",
       "  </thead>\n",
       "  <tbody>\n",
       "    <tr>\n",
       "      <th>0</th>\n",
       "      <td>1</td>\n",
       "      <td>0</td>\n",
       "      <td>3</td>\n",
       "      <td>Braund, Mr. Owen Harris</td>\n",
       "      <td>male</td>\n",
       "      <td>22.0</td>\n",
       "      <td>1</td>\n",
       "      <td>0</td>\n",
       "      <td>A/5 21171</td>\n",
       "      <td>7.2500</td>\n",
       "      <td>NaN</td>\n",
       "      <td>S</td>\n",
       "    </tr>\n",
       "    <tr>\n",
       "      <th>1</th>\n",
       "      <td>2</td>\n",
       "      <td>1</td>\n",
       "      <td>1</td>\n",
       "      <td>Cumings, Mrs. John Bradley (Florence Briggs Th...</td>\n",
       "      <td>female</td>\n",
       "      <td>38.0</td>\n",
       "      <td>1</td>\n",
       "      <td>0</td>\n",
       "      <td>PC 17599</td>\n",
       "      <td>71.2833</td>\n",
       "      <td>C85</td>\n",
       "      <td>C</td>\n",
       "    </tr>\n",
       "    <tr>\n",
       "      <th>2</th>\n",
       "      <td>3</td>\n",
       "      <td>1</td>\n",
       "      <td>3</td>\n",
       "      <td>Heikkinen, Miss. Laina</td>\n",
       "      <td>female</td>\n",
       "      <td>26.0</td>\n",
       "      <td>0</td>\n",
       "      <td>0</td>\n",
       "      <td>STON/O2. 3101282</td>\n",
       "      <td>7.9250</td>\n",
       "      <td>NaN</td>\n",
       "      <td>S</td>\n",
       "    </tr>\n",
       "    <tr>\n",
       "      <th>3</th>\n",
       "      <td>4</td>\n",
       "      <td>1</td>\n",
       "      <td>1</td>\n",
       "      <td>Futrelle, Mrs. Jacques Heath (Lily May Peel)</td>\n",
       "      <td>female</td>\n",
       "      <td>35.0</td>\n",
       "      <td>1</td>\n",
       "      <td>0</td>\n",
       "      <td>113803</td>\n",
       "      <td>53.1000</td>\n",
       "      <td>C123</td>\n",
       "      <td>S</td>\n",
       "    </tr>\n",
       "    <tr>\n",
       "      <th>4</th>\n",
       "      <td>5</td>\n",
       "      <td>0</td>\n",
       "      <td>3</td>\n",
       "      <td>Allen, Mr. William Henry</td>\n",
       "      <td>male</td>\n",
       "      <td>35.0</td>\n",
       "      <td>0</td>\n",
       "      <td>0</td>\n",
       "      <td>373450</td>\n",
       "      <td>8.0500</td>\n",
       "      <td>NaN</td>\n",
       "      <td>S</td>\n",
       "    </tr>\n",
       "  </tbody>\n",
       "</table>\n",
       "</div>"
      ],
      "text/plain": [
       "   PassengerId  Survived  Pclass  \\\n",
       "0            1         0       3   \n",
       "1            2         1       1   \n",
       "2            3         1       3   \n",
       "3            4         1       1   \n",
       "4            5         0       3   \n",
       "\n",
       "                                                Name     Sex   Age  SibSp  \\\n",
       "0                            Braund, Mr. Owen Harris    male  22.0      1   \n",
       "1  Cumings, Mrs. John Bradley (Florence Briggs Th...  female  38.0      1   \n",
       "2                             Heikkinen, Miss. Laina  female  26.0      0   \n",
       "3       Futrelle, Mrs. Jacques Heath (Lily May Peel)  female  35.0      1   \n",
       "4                           Allen, Mr. William Henry    male  35.0      0   \n",
       "\n",
       "   Parch            Ticket     Fare Cabin Embarked  \n",
       "0      0         A/5 21171   7.2500   NaN        S  \n",
       "1      0          PC 17599  71.2833   C85        C  \n",
       "2      0  STON/O2. 3101282   7.9250   NaN        S  \n",
       "3      0            113803  53.1000  C123        S  \n",
       "4      0            373450   8.0500   NaN        S  "
      ]
     },
     "execution_count": 2,
     "metadata": {},
     "output_type": "execute_result"
    }
   ],
   "source": [
    "data = pd.read_csv('./datas/titanic/train.csv')\n",
    "data.head()"
   ]
  },
  {
   "cell_type": "code",
   "execution_count": 3,
   "metadata": {},
   "outputs": [],
   "source": [
    "data['Embarked'].fillna('S', inplace = True)\n",
    "data['Fare'].fillna(0, inplace=True)\n",
    "data['Initial'] = data['Name'].str.extract('([A-Za-z]+)\\.')\n",
    "data['Initial'].replace(['Mlle','Mme','Ms','Dr','Major','Lady','Countess','Jonkheer','Col','Rev','Capt','Sir','Don', 'Dona'],['Miss','Miss','Miss','Mr','Mr','Mrs','Mrs','Other','Other','Other','Mr','Mr','Mr','Other'],inplace=True)\n"
   ]
  },
  {
   "cell_type": "code",
   "execution_count": 3,
   "metadata": {},
   "outputs": [],
   "source": [
    "\n",
    "mapping = {\n",
    "    \"Mr\":0,\n",
    "    \"Miss\":1,\n",
    "    \"Mrs\" : 1,\n",
    "    \"Master\":2,\n",
    "    \"Other\":3\n",
    "}\n",
    "\n",
    "\n",
    "\n",
    "mapping_sex = {\n",
    "    'male' : 0,\n",
    "    'female': 1\n",
    "}\n",
    "\n",
    "mapping_em = {\n",
    "    'S' :0,\n",
    "    'C' :1,\n",
    "    'Q' :2\n",
    "}\n"
   ]
  },
  {
   "cell_type": "code",
   "execution_count": 3,
   "metadata": {},
   "outputs": [],
   "source": [
    "\n",
    "data['Initial'] = data['Initial'].map(mapping)\n",
    "data['Fare'] = data['Fare'].map(lambda x : np.log(x) if x > 0 else 0)\n",
    "data['Sex'] = data['Sex'].map(mapping_sex)\n",
    "data['Embarked'] = data['Embarked'].map(mapping_em)\n"
   ]
  },
  {
   "cell_type": "code",
   "execution_count": 3,
   "metadata": {},
   "outputs": [],
   "source": [
    "data.drop(['PassengerId', \"Ticket\", \"Cabin\", \"Name\"], axis = 1, inplace = True)\n",
    "\n",
    "data.loc[ (data['Age'].isnull()) & (data['Initial'] == 0), 'Age' ] = 32\n",
    "data.loc[ (data['Age'].isnull()) & (data['Initial'] == 1), 'Age' ] = 28\n",
    "data.loc[ (data['Age'].isnull()) & (data['Initial'] == 2), 'Age' ] = 5\n",
    "data.loc[ (data['Age'].isnull()) & (data['Initial'] == 3), 'Age' ] = 45"
   ]
  },
  {
   "cell_type": "code",
   "execution_count": 4,
   "metadata": {},
   "outputs": [],
   "source": [
    "y = data['Survived']\n",
    "X = data.drop('Survived', axis = 1)\n",
    "X_train, X_test, y_train, y_test = train_test_split(X, y, test_size = 0.2, random_state=10)"
   ]
  },
  {
   "cell_type": "code",
   "execution_count": 13,
   "metadata": {},
   "outputs": [
    {
     "name": "stderr",
     "output_type": "stream",
     "text": [
      "d:\\anaconda3\\envs\\soojin\\lib\\site-packages\\sklearn\\model_selection\\_split.py:1978: FutureWarning: The default value of cv will change from 3 to 5 in version 0.22. Specify it explicitly to silence this warning.\n",
      "  warnings.warn(CV_WARNING, FutureWarning)\n",
      "[Parallel(n_jobs=-1)]: Using backend LokyBackend with 12 concurrent workers.\n"
     ]
    },
    {
     "name": "stdout",
     "output_type": "stream",
     "text": [
      "Fitting 3 folds for each of 100 candidates, totalling 300 fits\n"
     ]
    },
    {
     "name": "stderr",
     "output_type": "stream",
     "text": [
      "[Parallel(n_jobs=-1)]: Done  26 tasks      | elapsed:    3.5s\n",
      "[Parallel(n_jobs=-1)]: Done 176 tasks      | elapsed:    8.8s\n",
      "[Parallel(n_jobs=-1)]: Done 300 out of 300 | elapsed:   12.8s finished\n"
     ]
    },
    {
     "data": {
      "text/plain": [
       "GridSearchCV(cv='warn', error_score='raise-deprecating',\n",
       "             estimator=XGBClassifier(base_score=0.5, booster='gbtree',\n",
       "                                     colsample_bylevel=1, colsample_bynode=1,\n",
       "                                     colsample_bytree=1, gamma=0,\n",
       "                                     learning_rate=0.1, max_delta_step=0,\n",
       "                                     max_depth=3, min_child_weight=1,\n",
       "                                     missing=None, n_estimators=100, n_jobs=1,\n",
       "                                     nthread=None, objective='binary:logistic',\n",
       "                                     random_state=0, reg_alpha=0, reg_lambda=1,\n",
       "                                     scale_pos_weight=1, seed=None, silent=None,\n",
       "                                     subsample=1, verbosity=1),\n",
       "             iid='warn', n_jobs=-1,\n",
       "             param_grid={'learning_rate': [0.01, 0.05, 0.1, 0.15, 0.2],\n",
       "                         'max_depth': [4, 6, 8, 10, 12],\n",
       "                         'n_estimators': [100, 200, 400, 600]},\n",
       "             pre_dispatch='2*n_jobs', refit=True, return_train_score=False,\n",
       "             scoring='accuracy', verbose=1)"
      ]
     },
     "execution_count": 13,
     "metadata": {},
     "output_type": "execute_result"
    }
   ],
   "source": [
    "xgb = XGBClassifier()\n",
    "\n",
    "xgb_param_grid = {\n",
    "    'n_estimators' : [100, 200, 400, 600],\n",
    "    'learning_rate' : [0.01, 0.05, 0.1, 0.15, 0.2],\n",
    "    'max_depth' : [4, 6, 8, 10, 12],\n",
    "}\n",
    "\n",
    "xgb_grid = GridSearchCV(xgb, param_grid = xgb_param_grid, scoring=\"accuracy\", n_jobs= -1, verbose = 1)\n",
    "xgb_grid.fit(X_train, y_train)\n"
   ]
  },
  {
   "cell_type": "code",
   "execution_count": 14,
   "metadata": {},
   "outputs": [
    {
     "name": "stdout",
     "output_type": "stream",
     "text": [
      "최고 평균 정확도 : 0.8244\n",
      "최고의 파라미터 :  {'learning_rate': 0.01, 'max_depth': 10, 'n_estimators': 100}\n"
     ]
    }
   ],
   "source": [
    "print(\"최고 평균 정확도 : {0:.4f}\".format(xgb_grid.best_score_))\n",
    "print(\"최고의 파라미터 : \", xgb_grid.best_params_)"
   ]
  },
  {
   "cell_type": "code",
   "execution_count": 15,
   "metadata": {},
   "outputs": [],
   "source": [
    "result = pd.DataFrame(xgb_grid.cv_results_)\n",
    "result.sort_values(by=['rank_test_score'], inplace=True)"
   ]
  },
  {
   "cell_type": "code",
   "execution_count": 16,
   "metadata": {},
   "outputs": [
    {
     "data": {
      "text/html": [
       "<div>\n",
       "<style scoped>\n",
       "    .dataframe tbody tr th:only-of-type {\n",
       "        vertical-align: middle;\n",
       "    }\n",
       "\n",
       "    .dataframe tbody tr th {\n",
       "        vertical-align: top;\n",
       "    }\n",
       "\n",
       "    .dataframe thead th {\n",
       "        text-align: right;\n",
       "    }\n",
       "</style>\n",
       "<table border=\"1\" class=\"dataframe\">\n",
       "  <thead>\n",
       "    <tr style=\"text-align: right;\">\n",
       "      <th></th>\n",
       "      <th>params</th>\n",
       "      <th>mean_test_score</th>\n",
       "      <th>rank_test_score</th>\n",
       "    </tr>\n",
       "  </thead>\n",
       "  <tbody>\n",
       "    <tr>\n",
       "      <th>16</th>\n",
       "      <td>{'learning_rate': 0.01, 'max_depth': 12, 'n_es...</td>\n",
       "      <td>0.824438</td>\n",
       "      <td>1</td>\n",
       "    </tr>\n",
       "    <tr>\n",
       "      <th>12</th>\n",
       "      <td>{'learning_rate': 0.01, 'max_depth': 10, 'n_es...</td>\n",
       "      <td>0.824438</td>\n",
       "      <td>1</td>\n",
       "    </tr>\n",
       "    <tr>\n",
       "      <th>10</th>\n",
       "      <td>{'learning_rate': 0.01, 'max_depth': 8, 'n_est...</td>\n",
       "      <td>0.823034</td>\n",
       "      <td>3</td>\n",
       "    </tr>\n",
       "    <tr>\n",
       "      <th>6</th>\n",
       "      <td>{'learning_rate': 0.01, 'max_depth': 6, 'n_est...</td>\n",
       "      <td>0.823034</td>\n",
       "      <td>3</td>\n",
       "    </tr>\n",
       "    <tr>\n",
       "      <th>11</th>\n",
       "      <td>{'learning_rate': 0.01, 'max_depth': 8, 'n_est...</td>\n",
       "      <td>0.821629</td>\n",
       "      <td>5</td>\n",
       "    </tr>\n",
       "    <tr>\n",
       "      <th>14</th>\n",
       "      <td>{'learning_rate': 0.01, 'max_depth': 10, 'n_es...</td>\n",
       "      <td>0.820225</td>\n",
       "      <td>6</td>\n",
       "    </tr>\n",
       "    <tr>\n",
       "      <th>7</th>\n",
       "      <td>{'learning_rate': 0.01, 'max_depth': 6, 'n_est...</td>\n",
       "      <td>0.820225</td>\n",
       "      <td>6</td>\n",
       "    </tr>\n",
       "    <tr>\n",
       "      <th>8</th>\n",
       "      <td>{'learning_rate': 0.01, 'max_depth': 8, 'n_est...</td>\n",
       "      <td>0.820225</td>\n",
       "      <td>6</td>\n",
       "    </tr>\n",
       "    <tr>\n",
       "      <th>15</th>\n",
       "      <td>{'learning_rate': 0.01, 'max_depth': 10, 'n_es...</td>\n",
       "      <td>0.818820</td>\n",
       "      <td>9</td>\n",
       "    </tr>\n",
       "    <tr>\n",
       "      <th>20</th>\n",
       "      <td>{'learning_rate': 0.05, 'max_depth': 4, 'n_est...</td>\n",
       "      <td>0.818820</td>\n",
       "      <td>9</td>\n",
       "    </tr>\n",
       "  </tbody>\n",
       "</table>\n",
       "</div>"
      ],
      "text/plain": [
       "                                               params  mean_test_score  \\\n",
       "16  {'learning_rate': 0.01, 'max_depth': 12, 'n_es...         0.824438   \n",
       "12  {'learning_rate': 0.01, 'max_depth': 10, 'n_es...         0.824438   \n",
       "10  {'learning_rate': 0.01, 'max_depth': 8, 'n_est...         0.823034   \n",
       "6   {'learning_rate': 0.01, 'max_depth': 6, 'n_est...         0.823034   \n",
       "11  {'learning_rate': 0.01, 'max_depth': 8, 'n_est...         0.821629   \n",
       "14  {'learning_rate': 0.01, 'max_depth': 10, 'n_es...         0.820225   \n",
       "7   {'learning_rate': 0.01, 'max_depth': 6, 'n_est...         0.820225   \n",
       "8   {'learning_rate': 0.01, 'max_depth': 8, 'n_est...         0.820225   \n",
       "15  {'learning_rate': 0.01, 'max_depth': 10, 'n_es...         0.818820   \n",
       "20  {'learning_rate': 0.05, 'max_depth': 4, 'n_est...         0.818820   \n",
       "\n",
       "    rank_test_score  \n",
       "16                1  \n",
       "12                1  \n",
       "10                3  \n",
       "6                 3  \n",
       "11                5  \n",
       "14                6  \n",
       "7                 6  \n",
       "8                 6  \n",
       "15                9  \n",
       "20                9  "
      ]
     },
     "execution_count": 16,
     "metadata": {},
     "output_type": "execute_result"
    }
   ],
   "source": [
    "result[['params', 'mean_test_score', 'rank_test_score']].head(10)"
   ]
  },
  {
   "cell_type": "code",
   "execution_count": 5,
   "metadata": {},
   "outputs": [],
   "source": []
  },
  {
   "cell_type": "code",
   "execution_count": 5,
   "metadata": {},
   "outputs": [],
   "source": []
  },
  {
   "cell_type": "code",
   "execution_count": 7,
   "metadata": {},
   "outputs": [
    {
     "name": "stdout",
     "output_type": "stream",
     "text": [
      "[0]\tvalidation_0-logloss:0.643237\n",
      "Will train until validation_0-logloss hasn't improved in 100 rounds.\n",
      "[1]\tvalidation_0-logloss:0.600544\n",
      "[2]\tvalidation_0-logloss:0.567278\n",
      "[3]\tvalidation_0-logloss:0.539616\n",
      "[4]\tvalidation_0-logloss:0.515783\n",
      "[5]\tvalidation_0-logloss:0.493083\n",
      "[6]\tvalidation_0-logloss:0.475519\n",
      "[7]\tvalidation_0-logloss:0.460413\n",
      "[8]\tvalidation_0-logloss:0.447876\n",
      "[9]\tvalidation_0-logloss:0.434248\n",
      "[10]\tvalidation_0-logloss:0.424888\n",
      "[11]\tvalidation_0-logloss:0.417043\n",
      "[12]\tvalidation_0-logloss:0.410522\n",
      "[13]\tvalidation_0-logloss:0.40404\n",
      "[14]\tvalidation_0-logloss:0.399429\n",
      "[15]\tvalidation_0-logloss:0.393991\n",
      "[16]\tvalidation_0-logloss:0.390694\n",
      "[17]\tvalidation_0-logloss:0.386906\n",
      "[18]\tvalidation_0-logloss:0.383186\n",
      "[19]\tvalidation_0-logloss:0.379069\n",
      "[20]\tvalidation_0-logloss:0.375775\n",
      "[21]\tvalidation_0-logloss:0.374222\n",
      "[22]\tvalidation_0-logloss:0.372794\n",
      "[23]\tvalidation_0-logloss:0.373341\n",
      "[24]\tvalidation_0-logloss:0.370527\n",
      "[25]\tvalidation_0-logloss:0.369523\n",
      "[26]\tvalidation_0-logloss:0.369086\n",
      "[27]\tvalidation_0-logloss:0.369067\n",
      "[28]\tvalidation_0-logloss:0.367292\n",
      "[29]\tvalidation_0-logloss:0.366029\n",
      "[30]\tvalidation_0-logloss:0.365949\n",
      "[31]\tvalidation_0-logloss:0.364792\n",
      "[32]\tvalidation_0-logloss:0.365043\n",
      "[33]\tvalidation_0-logloss:0.365255\n",
      "[34]\tvalidation_0-logloss:0.364502\n",
      "[35]\tvalidation_0-logloss:0.36495\n",
      "[36]\tvalidation_0-logloss:0.3653\n",
      "[37]\tvalidation_0-logloss:0.365692\n",
      "[38]\tvalidation_0-logloss:0.364633\n",
      "[39]\tvalidation_0-logloss:0.365394\n",
      "[40]\tvalidation_0-logloss:0.366006\n",
      "[41]\tvalidation_0-logloss:0.364511\n",
      "[42]\tvalidation_0-logloss:0.362128\n",
      "[43]\tvalidation_0-logloss:0.363265\n",
      "[44]\tvalidation_0-logloss:0.362809\n",
      "[45]\tvalidation_0-logloss:0.361418\n",
      "[46]\tvalidation_0-logloss:0.361081\n",
      "[47]\tvalidation_0-logloss:0.362271\n",
      "[48]\tvalidation_0-logloss:0.360343\n",
      "[49]\tvalidation_0-logloss:0.360147\n",
      "[50]\tvalidation_0-logloss:0.359536\n",
      "[51]\tvalidation_0-logloss:0.360105\n",
      "[52]\tvalidation_0-logloss:0.359863\n",
      "[53]\tvalidation_0-logloss:0.360054\n",
      "[54]\tvalidation_0-logloss:0.360457\n",
      "[55]\tvalidation_0-logloss:0.359963\n",
      "[56]\tvalidation_0-logloss:0.359591\n",
      "[57]\tvalidation_0-logloss:0.360042\n",
      "[58]\tvalidation_0-logloss:0.358606\n",
      "[59]\tvalidation_0-logloss:0.35847\n",
      "[60]\tvalidation_0-logloss:0.358429\n",
      "[61]\tvalidation_0-logloss:0.358046\n",
      "[62]\tvalidation_0-logloss:0.357865\n",
      "[63]\tvalidation_0-logloss:0.356589\n",
      "[64]\tvalidation_0-logloss:0.356376\n",
      "[65]\tvalidation_0-logloss:0.357027\n",
      "[66]\tvalidation_0-logloss:0.356924\n",
      "[67]\tvalidation_0-logloss:0.357237\n",
      "[68]\tvalidation_0-logloss:0.358427\n",
      "[69]\tvalidation_0-logloss:0.358904\n",
      "[70]\tvalidation_0-logloss:0.356838\n",
      "[71]\tvalidation_0-logloss:0.355709\n",
      "[72]\tvalidation_0-logloss:0.356185\n",
      "[73]\tvalidation_0-logloss:0.357439\n",
      "[74]\tvalidation_0-logloss:0.356952\n",
      "[75]\tvalidation_0-logloss:0.356894\n",
      "[76]\tvalidation_0-logloss:0.357164\n",
      "[77]\tvalidation_0-logloss:0.35748\n",
      "[78]\tvalidation_0-logloss:0.357296\n",
      "[79]\tvalidation_0-logloss:0.357984\n",
      "[80]\tvalidation_0-logloss:0.357816\n",
      "[81]\tvalidation_0-logloss:0.358238\n",
      "[82]\tvalidation_0-logloss:0.358398\n",
      "[83]\tvalidation_0-logloss:0.358424\n",
      "[84]\tvalidation_0-logloss:0.358912\n",
      "[85]\tvalidation_0-logloss:0.360025\n",
      "[86]\tvalidation_0-logloss:0.359234\n",
      "[87]\tvalidation_0-logloss:0.359403\n",
      "[88]\tvalidation_0-logloss:0.358514\n",
      "[89]\tvalidation_0-logloss:0.359621\n",
      "[90]\tvalidation_0-logloss:0.359716\n",
      "[91]\tvalidation_0-logloss:0.360305\n",
      "[92]\tvalidation_0-logloss:0.359297\n",
      "[93]\tvalidation_0-logloss:0.35923\n",
      "[94]\tvalidation_0-logloss:0.35925\n",
      "[95]\tvalidation_0-logloss:0.359636\n",
      "[96]\tvalidation_0-logloss:0.358746\n",
      "[97]\tvalidation_0-logloss:0.359995\n",
      "[98]\tvalidation_0-logloss:0.358856\n",
      "[99]\tvalidation_0-logloss:0.359269\n",
      "[100]\tvalidation_0-logloss:0.359495\n",
      "[101]\tvalidation_0-logloss:0.359534\n",
      "[102]\tvalidation_0-logloss:0.359903\n",
      "[103]\tvalidation_0-logloss:0.360073\n",
      "[104]\tvalidation_0-logloss:0.360139\n",
      "[105]\tvalidation_0-logloss:0.360796\n",
      "[106]\tvalidation_0-logloss:0.359293\n",
      "[107]\tvalidation_0-logloss:0.359956\n",
      "[108]\tvalidation_0-logloss:0.360043\n",
      "[109]\tvalidation_0-logloss:0.359125\n",
      "[110]\tvalidation_0-logloss:0.359315\n",
      "[111]\tvalidation_0-logloss:0.3594\n",
      "[112]\tvalidation_0-logloss:0.359811\n",
      "[113]\tvalidation_0-logloss:0.359921\n",
      "[114]\tvalidation_0-logloss:0.360095\n",
      "[115]\tvalidation_0-logloss:0.35926\n",
      "[116]\tvalidation_0-logloss:0.359522\n",
      "[117]\tvalidation_0-logloss:0.35992\n",
      "[118]\tvalidation_0-logloss:0.359175\n",
      "[119]\tvalidation_0-logloss:0.358587\n",
      "[120]\tvalidation_0-logloss:0.358692\n",
      "[121]\tvalidation_0-logloss:0.359066\n",
      "[122]\tvalidation_0-logloss:0.359215\n",
      "[123]\tvalidation_0-logloss:0.358593\n",
      "[124]\tvalidation_0-logloss:0.35855\n",
      "[125]\tvalidation_0-logloss:0.35841\n",
      "[126]\tvalidation_0-logloss:0.358248\n",
      "[127]\tvalidation_0-logloss:0.358388\n",
      "[128]\tvalidation_0-logloss:0.358489\n",
      "[129]\tvalidation_0-logloss:0.358913\n",
      "[130]\tvalidation_0-logloss:0.359169\n",
      "[131]\tvalidation_0-logloss:0.358706\n",
      "[132]\tvalidation_0-logloss:0.358846\n",
      "[133]\tvalidation_0-logloss:0.35899\n",
      "[134]\tvalidation_0-logloss:0.358574\n",
      "[135]\tvalidation_0-logloss:0.358431\n",
      "[136]\tvalidation_0-logloss:0.358572\n",
      "[137]\tvalidation_0-logloss:0.357526\n",
      "[138]\tvalidation_0-logloss:0.3576\n",
      "[139]\tvalidation_0-logloss:0.358176\n",
      "[140]\tvalidation_0-logloss:0.357707\n",
      "[141]\tvalidation_0-logloss:0.357483\n",
      "[142]\tvalidation_0-logloss:0.357542\n",
      "[143]\tvalidation_0-logloss:0.357489\n",
      "[144]\tvalidation_0-logloss:0.357366\n",
      "[145]\tvalidation_0-logloss:0.358119\n",
      "[146]\tvalidation_0-logloss:0.358145\n",
      "[147]\tvalidation_0-logloss:0.35822\n",
      "[148]\tvalidation_0-logloss:0.35805\n",
      "[149]\tvalidation_0-logloss:0.35899\n",
      "[150]\tvalidation_0-logloss:0.35882\n",
      "[151]\tvalidation_0-logloss:0.357895\n",
      "[152]\tvalidation_0-logloss:0.358154\n",
      "[153]\tvalidation_0-logloss:0.357417\n",
      "[154]\tvalidation_0-logloss:0.359365\n",
      "[155]\tvalidation_0-logloss:0.358782\n",
      "[156]\tvalidation_0-logloss:0.358195\n",
      "[157]\tvalidation_0-logloss:0.357697\n",
      "[158]\tvalidation_0-logloss:0.358491\n",
      "[159]\tvalidation_0-logloss:0.358627\n",
      "[160]\tvalidation_0-logloss:0.358216\n",
      "[161]\tvalidation_0-logloss:0.358591\n",
      "[162]\tvalidation_0-logloss:0.358682\n",
      "[163]\tvalidation_0-logloss:0.358732\n",
      "[164]\tvalidation_0-logloss:0.358995\n",
      "[165]\tvalidation_0-logloss:0.359204\n",
      "[166]\tvalidation_0-logloss:0.358358\n",
      "[167]\tvalidation_0-logloss:0.359008\n",
      "[168]\tvalidation_0-logloss:0.358891\n",
      "[169]\tvalidation_0-logloss:0.357869\n",
      "[170]\tvalidation_0-logloss:0.357907\n",
      "[171]\tvalidation_0-logloss:0.3576\n",
      "Stopping. Best iteration:\n",
      "[71]\tvalidation_0-logloss:0.355709\n",
      "\n"
     ]
    },
    {
     "data": {
      "text/plain": [
       "XGBClassifier(base_score=0.5, booster='gbtree', colsample_bylevel=1,\n",
       "              colsample_bynode=1, colsample_bytree=1, gamma=0,\n",
       "              learning_rate=0.1, max_delta_step=0, max_depth=3,\n",
       "              min_child_weight=1, missing=None, n_estimators=400, n_jobs=1,\n",
       "              nthread=None, objective='binary:logistic', random_state=0,\n",
       "              reg_alpha=0, reg_lambda=1, scale_pos_weight=1, seed=None,\n",
       "              silent=None, subsample=1, verbosity=1)"
      ]
     },
     "execution_count": 7,
     "metadata": {},
     "output_type": "execute_result"
    }
   ],
   "source": [
    "xgb = XGBClassifier(n_estimators=400, learning_rate = 0.1, max_depth = 3)\n",
    "evals = [(X_test, y_test)]\n",
    "xgb.fit(X_train, y_train, early_stopping_rounds = 100, eval_metric = \"logloss\", eval_set = evals, verbose = 1)"
   ]
  },
  {
   "cell_type": "code",
   "execution_count": 17,
   "metadata": {},
   "outputs": [
    {
     "name": "stdout",
     "output_type": "stream",
     "text": [
      "[0]\tvalidation_0-logloss:0.643237\n",
      "Will train until validation_0-logloss hasn't improved in 3 rounds.\n",
      "[1]\tvalidation_0-logloss:0.600544\n",
      "[2]\tvalidation_0-logloss:0.567278\n",
      "[3]\tvalidation_0-logloss:0.539616\n",
      "[4]\tvalidation_0-logloss:0.515783\n",
      "[5]\tvalidation_0-logloss:0.493083\n",
      "[6]\tvalidation_0-logloss:0.475519\n",
      "[7]\tvalidation_0-logloss:0.460413\n",
      "[8]\tvalidation_0-logloss:0.447876\n",
      "[9]\tvalidation_0-logloss:0.434248\n",
      "[10]\tvalidation_0-logloss:0.424888\n",
      "[11]\tvalidation_0-logloss:0.417043\n",
      "[12]\tvalidation_0-logloss:0.410522\n",
      "[13]\tvalidation_0-logloss:0.40404\n",
      "[14]\tvalidation_0-logloss:0.399429\n",
      "[15]\tvalidation_0-logloss:0.393991\n",
      "[16]\tvalidation_0-logloss:0.390694\n",
      "[17]\tvalidation_0-logloss:0.386906\n",
      "[18]\tvalidation_0-logloss:0.383186\n",
      "[19]\tvalidation_0-logloss:0.379069\n",
      "[20]\tvalidation_0-logloss:0.375775\n",
      "[21]\tvalidation_0-logloss:0.374222\n",
      "[22]\tvalidation_0-logloss:0.372794\n",
      "[23]\tvalidation_0-logloss:0.373341\n",
      "[24]\tvalidation_0-logloss:0.370527\n",
      "[25]\tvalidation_0-logloss:0.369523\n",
      "[26]\tvalidation_0-logloss:0.369086\n",
      "[27]\tvalidation_0-logloss:0.369067\n",
      "[28]\tvalidation_0-logloss:0.367292\n",
      "[29]\tvalidation_0-logloss:0.366029\n",
      "[30]\tvalidation_0-logloss:0.365949\n",
      "[31]\tvalidation_0-logloss:0.364792\n",
      "[32]\tvalidation_0-logloss:0.365043\n",
      "[33]\tvalidation_0-logloss:0.365255\n",
      "[34]\tvalidation_0-logloss:0.364502\n",
      "[35]\tvalidation_0-logloss:0.36495\n",
      "[36]\tvalidation_0-logloss:0.3653\n",
      "[37]\tvalidation_0-logloss:0.365692\n",
      "Stopping. Best iteration:\n",
      "[34]\tvalidation_0-logloss:0.364502\n",
      "\n"
     ]
    },
    {
     "data": {
      "text/plain": [
       "XGBClassifier(base_score=0.5, booster='gbtree', colsample_bylevel=1,\n",
       "              colsample_bynode=1, colsample_bytree=1, gamma=0,\n",
       "              learning_rate=0.1, max_delta_step=0, max_depth=3,\n",
       "              min_child_weight=1, missing=None, n_estimators=400, n_jobs=1,\n",
       "              nthread=None, objective='binary:logistic', random_state=0,\n",
       "              reg_alpha=0, reg_lambda=1, scale_pos_weight=1, seed=None,\n",
       "              silent=None, subsample=1, verbosity=1)"
      ]
     },
     "execution_count": 17,
     "metadata": {},
     "output_type": "execute_result"
    }
   ],
   "source": [
    "xgb = XGBClassifier(n_estimators=400, learning_rate = 0.1, max_depth = 3)\n",
    "evals = [(X_test, y_test)]\n",
    "xgb.fit(X_train, y_train, early_stopping_rounds = 3, eval_metric = \"logloss\", eval_set = evals, verbose = 1)"
   ]
  },
  {
   "cell_type": "code",
   "execution_count": 9,
   "metadata": {},
   "outputs": [
    {
     "data": {
      "text/plain": [
       "<matplotlib.axes._subplots.AxesSubplot at 0x24da5671cf8>"
      ]
     },
     "execution_count": 9,
     "metadata": {},
     "output_type": "execute_result"
    },
    {
     "data": {
      "image/png": "[encoded data removed]",
      "text/plain": [
       "<Figure size 432x288 with 1 Axes>"
      ]
     },
     "metadata": {
      "needs_background": "light"
     },
     "output_type": "display_data"
    }
   ],
   "source": [
    "fig, ax = plt.subplots()\n",
    "plot_importance(xgb, ax=ax)"
   ]
  },
  {
   "cell_type": "code",
   "execution_count": null,
   "metadata": {},
   "outputs": [],
   "source": []
  },
  {
   "cell_type": "code",
   "execution_count": 6,
   "metadata": {},
   "outputs": [],
   "source": [
    "from lightgbm import LGBMClassifier, plot_importance"
   ]
  },
  {
   "cell_type": "code",
   "execution_count": 11,
   "metadata": {},
   "outputs": [
    {
     "data": {
      "text/plain": [
       "LGBMClassifier(boosting_type='gbdt', class_weight=None, colsample_bytree=1.0,\n",
       "               importance_type='split', learning_rate=0.1, max_depth=-1,\n",
       "               min_child_samples=20, min_child_weight=0.001, min_split_gain=0.0,\n",
       "               n_estimaotrs=400, n_estimators=100, n_jobs=-1, num_leaves=31,\n",
       "               objective=None, random_state=None, reg_alpha=0.0, reg_lambda=0.0,\n",
       "               silent=True, subsample=1.0, subsample_for_bin=200000,\n",
       "               subsample_freq=0)"
      ]
     },
     "execution_count": 11,
     "metadata": {},
     "output_type": "execute_result"
    }
   ],
   "source": [
    "lgb = LGBMClassifier(n_estimaotrs = 400)\n",
    "lgb.fit(X_train, y_train)"
   ]
  },
  {
   "cell_type": "code",
   "execution_count": 12,
   "metadata": {},
   "outputs": [
    {
     "name": "stdout",
     "output_type": "stream",
     "text": [
      "정확도 : 0.84, 정밀도 : 0.79, 재현율 : 0.73\n",
      "f1-score : 0.76, auc : 0.81\n"
     ]
    }
   ],
   "source": [
    "lgb_pred = lgb.predict(X_test)\n",
    "metrics(y_test, lgb_pred)"
   ]
  },
  {
   "cell_type": "code",
   "execution_count": 13,
   "metadata": {},
   "outputs": [
    {
     "name": "stdout",
     "output_type": "stream",
     "text": [
      "[1]\tvalid_0's binary_logloss: 0.605701\n",
      "Training until validation scores don't improve for 100 rounds\n",
      "[2]\tvalid_0's binary_logloss: 0.569461\n",
      "[3]\tvalid_0's binary_logloss: 0.540251\n",
      "[4]\tvalid_0's binary_logloss: 0.5147\n",
      "[5]\tvalid_0's binary_logloss: 0.493662\n",
      "[6]\tvalid_0's binary_logloss: 0.47569\n",
      "[7]\tvalid_0's binary_logloss: 0.45573\n",
      "[8]\tvalid_0's binary_logloss: 0.442288\n",
      "[9]\tvalid_0's binary_logloss: 0.427343\n",
      "[10]\tvalid_0's binary_logloss: 0.41478\n",
      "[11]\tvalid_0's binary_logloss: 0.404568\n",
      "[12]\tvalid_0's binary_logloss: 0.394087\n",
      "[13]\tvalid_0's binary_logloss: 0.384579\n",
      "[14]\tvalid_0's binary_logloss: 0.377022\n",
      "[15]\tvalid_0's binary_logloss: 0.372698\n",
      "[16]\tvalid_0's binary_logloss: 0.367266\n",
      "[17]\tvalid_0's binary_logloss: 0.364566\n",
      "[18]\tvalid_0's binary_logloss: 0.362322\n",
      "[19]\tvalid_0's binary_logloss: 0.35638\n",
      "[20]\tvalid_0's binary_logloss: 0.352956\n",
      "[21]\tvalid_0's binary_logloss: 0.351149\n",
      "[22]\tvalid_0's binary_logloss: 0.350341\n",
      "[23]\tvalid_0's binary_logloss: 0.348923\n",
      "[24]\tvalid_0's binary_logloss: 0.348176\n",
      "[25]\tvalid_0's binary_logloss: 0.34714\n",
      "[26]\tvalid_0's binary_logloss: 0.346754\n",
      "[27]\tvalid_0's binary_logloss: 0.347015\n",
      "[28]\tvalid_0's binary_logloss: 0.347799\n",
      "[29]\tvalid_0's binary_logloss: 0.348623\n",
      "[30]\tvalid_0's binary_logloss: 0.349346\n",
      "[31]\tvalid_0's binary_logloss: 0.350961\n",
      "[32]\tvalid_0's binary_logloss: 0.352158\n",
      "[33]\tvalid_0's binary_logloss: 0.352746\n",
      "[34]\tvalid_0's binary_logloss: 0.353988\n",
      "[35]\tvalid_0's binary_logloss: 0.35563\n",
      "[36]\tvalid_0's binary_logloss: 0.357587\n",
      "[37]\tvalid_0's binary_logloss: 0.357775\n",
      "[38]\tvalid_0's binary_logloss: 0.359317\n",
      "[39]\tvalid_0's binary_logloss: 0.360177\n",
      "[40]\tvalid_0's binary_logloss: 0.359158\n",
      "[41]\tvalid_0's binary_logloss: 0.360159\n",
      "[42]\tvalid_0's binary_logloss: 0.359884\n",
      "[43]\tvalid_0's binary_logloss: 0.360693\n",
      "[44]\tvalid_0's binary_logloss: 0.361518\n",
      "[45]\tvalid_0's binary_logloss: 0.361417\n",
      "[46]\tvalid_0's binary_logloss: 0.36477\n",
      "[47]\tvalid_0's binary_logloss: 0.366563\n",
      "[48]\tvalid_0's binary_logloss: 0.367413\n",
      "[49]\tvalid_0's binary_logloss: 0.370403\n",
      "[50]\tvalid_0's binary_logloss: 0.370454\n",
      "[51]\tvalid_0's binary_logloss: 0.3713\n",
      "[52]\tvalid_0's binary_logloss: 0.373395\n",
      "[53]\tvalid_0's binary_logloss: 0.371452\n",
      "[54]\tvalid_0's binary_logloss: 0.370792\n",
      "[55]\tvalid_0's binary_logloss: 0.369311\n",
      "[56]\tvalid_0's binary_logloss: 0.368987\n",
      "[57]\tvalid_0's binary_logloss: 0.372909\n",
      "[58]\tvalid_0's binary_logloss: 0.371587\n",
      "[59]\tvalid_0's binary_logloss: 0.371235\n",
      "[60]\tvalid_0's binary_logloss: 0.371714\n",
      "[61]\tvalid_0's binary_logloss: 0.372394\n",
      "[62]\tvalid_0's binary_logloss: 0.371164\n",
      "[63]\tvalid_0's binary_logloss: 0.371928\n",
      "[64]\tvalid_0's binary_logloss: 0.372314\n",
      "[65]\tvalid_0's binary_logloss: 0.372502\n",
      "[66]\tvalid_0's binary_logloss: 0.376302\n",
      "[67]\tvalid_0's binary_logloss: 0.378364\n",
      "[68]\tvalid_0's binary_logloss: 0.378404\n",
      "[69]\tvalid_0's binary_logloss: 0.381327\n",
      "[70]\tvalid_0's binary_logloss: 0.380973\n",
      "[71]\tvalid_0's binary_logloss: 0.382481\n",
      "[72]\tvalid_0's binary_logloss: 0.38136\n",
      "[73]\tvalid_0's binary_logloss: 0.383008\n",
      "[74]\tvalid_0's binary_logloss: 0.381861\n",
      "[75]\tvalid_0's binary_logloss: 0.382796\n",
      "[76]\tvalid_0's binary_logloss: 0.38258\n",
      "[77]\tvalid_0's binary_logloss: 0.384473\n",
      "[78]\tvalid_0's binary_logloss: 0.383581\n",
      "[79]\tvalid_0's binary_logloss: 0.385198\n",
      "[80]\tvalid_0's binary_logloss: 0.383797\n",
      "[81]\tvalid_0's binary_logloss: 0.383937\n",
      "[82]\tvalid_0's binary_logloss: 0.383372\n",
      "[83]\tvalid_0's binary_logloss: 0.384661\n",
      "[84]\tvalid_0's binary_logloss: 0.383799\n",
      "[85]\tvalid_0's binary_logloss: 0.384108\n",
      "[86]\tvalid_0's binary_logloss: 0.383364\n",
      "[87]\tvalid_0's binary_logloss: 0.384795\n",
      "[88]\tvalid_0's binary_logloss: 0.384702\n",
      "[89]\tvalid_0's binary_logloss: 0.386003\n",
      "[90]\tvalid_0's binary_logloss: 0.386621\n",
      "[91]\tvalid_0's binary_logloss: 0.387986\n",
      "[92]\tvalid_0's binary_logloss: 0.390496\n",
      "[93]\tvalid_0's binary_logloss: 0.389984\n",
      "[94]\tvalid_0's binary_logloss: 0.391477\n",
      "[95]\tvalid_0's binary_logloss: 0.391917\n",
      "[96]\tvalid_0's binary_logloss: 0.392326\n",
      "[97]\tvalid_0's binary_logloss: 0.392731\n",
      "[98]\tvalid_0's binary_logloss: 0.392586\n",
      "[99]\tvalid_0's binary_logloss: 0.394479\n",
      "[100]\tvalid_0's binary_logloss: 0.397251\n",
      "Did not meet early stopping. Best iteration is:\n",
      "[26]\tvalid_0's binary_logloss: 0.346754\n"
     ]
    },
    {
     "data": {
      "text/plain": [
       "LGBMClassifier(boosting_type='gbdt', class_weight=None, colsample_bytree=1.0,\n",
       "               importance_type='split', learning_rate=0.1, max_depth=-1,\n",
       "               min_child_samples=20, min_child_weight=0.001, min_split_gain=0.0,\n",
       "               n_estimaotrs=400, n_estimators=100, n_jobs=-1, num_leaves=31,\n",
       "               objective=None, random_state=None, reg_alpha=0.0, reg_lambda=0.0,\n",
       "               silent=True, subsample=1.0, subsample_for_bin=200000,\n",
       "               subsample_freq=0)"
      ]
     },
     "execution_count": 13,
     "metadata": {},
     "output_type": "execute_result"
    }
   ],
   "source": [
    "lgb = LGBMClassifier(n_estimaotrs = 400)\n",
    "evals = [(X_test, y_test)]\n",
    "lgb.fit(X_train, y_train, early_stopping_rounds = 100, eval_metric = \"logloss\", eval_set = evals, verbose = True)"
   ]
  },
  {
   "cell_type": "code",
   "execution_count": 15,
   "metadata": {},
   "outputs": [
    {
     "data": {
      "text/plain": [
       "<matplotlib.axes._subplots.AxesSubplot at 0x1c37516ff28>"
      ]
     },
     "execution_count": 15,
     "metadata": {},
     "output_type": "execute_result"
    },
    {
     "data": {
      "image/png": "[encoded data removed]",
      "text/plain": [
       "<Figure size 720x432 with 1 Axes>"
      ]
     },
     "metadata": {
      "needs_background": "light"
     },
     "output_type": "display_data"
    }
   ],
   "source": [
    "fig, ax = plt.subplots(figsize=(10, 6))\n",
    "plot_importance(lgb, ax = ax)"
   ]
  },
  {
   "cell_type": "code",
   "execution_count": null,
   "metadata": {},
   "outputs": [],
   "source": []
  },
  {
   "cell_type": "code",
   "execution_count": null,
   "metadata": {},
   "outputs": [],
   "source": []
  }
 ],
 "metadata": {
  "kernelspec": {
   "display_name": "Python 3",
   "language": "python",
   "name": "python3"
  },
  "language_info": {
   "codemirror_mode": {
    "name": "ipython",
    "version": 3
   },
   "file_extension": ".py",
   "mimetype": "text/x-python",
   "name": "python",
   "nbconvert_exporter": "python",
   "pygments_lexer": "ipython3",
   "version": "3.6.9"
  }
 },
 "nbformat": 4,
 "nbformat_minor": 2
}
